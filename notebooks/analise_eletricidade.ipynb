{
 "cells": [
  {
   "cell_type": "markdown",
   "id": "6657e2b3-7ab9-4249-9001-c85430887f9d",
   "metadata": {},
   "source": [
    "# Projeto: Análise de Consumo de Eletricidade\n",
    "### Autor: Daniel Guimarães\n",
    "\n",
    "Este notebook contém a análise completa de um dataset de consumo de energia de uma cidade, cobrindo as etapas de limpeza de dados, visualização de séries temporais e análise de padrões de consumo."
   ]
  },
  {
   "cell_type": "markdown",
   "id": "fab4a22a-408f-4337-9615-1084cff1579a",
   "metadata": {},
   "source": [
    "1. Limpeza e Visualização de Dados"
   ]
  },
  {
   "cell_type": "code",
   "execution_count": null,
   "id": "98edacbf-aeac-4e27-8d44-188db4655202",
   "metadata": {},
   "outputs": [],
   "source": [
    "import pandas as pd\n",
    "import folium\n",
    "from folium.plugins import MarkerCluster\n",
    "\n",
    "# 1. Carregar os dados\n",
    "# O dataset é grande, então vamos carregar apenas as colunas necessárias e uma amostra.\n",
    "# file_path = '/home/daniel/Documentos/ProjetosPython/analise-acidentes/data/US_Accidents_March23.csv'\n",
    "# df = pd.read_csv(file_path, usecols=['Start_Lat', 'Start_Lng', 'Severity', 'Start_Time', 'City'])\n",
    "\n",
    "# Para facilitar, vamos usar o caminho relativo, pois é uma boa prática\n",
    "file_path = '../data/US_Accidents_March23.csv'\n",
    "df = pd.read_csv(file_path, usecols=['Start_Lat', 'Start_Lng', 'Severity', 'Start_Time', 'City'])\n",
    "\n",
    "# Exibir os dados originais\n",
    "print(\"Dados originais (amostra):\")\n",
    "print(df.head())\n",
    "print(\"-\" * 50)\n",
    "print(\"Informações sobre os dados:\")\n",
    "print(df.info())\n",
    "print(\"-\" * 50)\n",
    "\n",
    "\n",
    "# 2. Limpeza de dados de localização\n",
    "# Remover linhas com valores ausentes de Latitude e Longitude\n",
    "df.dropna(subset=['Start_Lat', 'Start_Lng'], inplace=True)\n",
    "\n",
    "\n",
    "# 3. Criar um mapa base\n",
    "# O mapa será centralizado em um ponto médio dos dados dos EUA\n",
    "mapa_acidentes = folium.Map(location=[df['Start_Lat'].mean(), df['Start_Lng'].mean()], zoom_start=4)\n",
    "\n",
    "\n",
    "# 4. Plotar uma amostra dos acidentes no mapa\n",
    "# Vamos usar uma amostra menor para que a renderização seja rápida\n",
    "amostra_df = df.sample(n=10000)\n",
    "\n",
    "# Usar MarkerCluster para agrupar os marcadores e evitar a poluição visual\n",
    "marker_cluster = MarkerCluster().add_to(mapa_acidentes)\n",
    "\n",
    "for index, row in amostra_df.iterrows():\n",
    "    folium.Marker(\n",
    "        location=[row['Start_Lat'], row['Start_Lng']],\n",
    "        popup=f\"Severidade: {row['Severity']}<br>Cidade: {row['City']}\"\n",
    "    ).add_to(marker_cluster)\n",
    "\n",
    "\n",
    "# 5. Salvar o mapa em um arquivo HTML\n",
    "output_file = '../reports/mapa_acidentes.html'\n",
    "mapa_acidentes.save(output_file)\n",
    "\n",
    "print(f\"Mapa geoespacial criado com sucesso e salvo em '{output_file}'.\")"
   ]
  },
  {
   "cell_type": "code",
   "execution_count": null,
   "id": "081c7fa6-54c9-459c-b193-0c27ec121cd1",
   "metadata": {},
   "outputs": [],
   "source": []
  }
 ],
 "metadata": {
  "kernelspec": {
   "display_name": "Python 3 (ipykernel)",
   "language": "python",
   "name": "python3"
  },
  "language_info": {
   "codemirror_mode": {
    "name": "ipython",
    "version": 3
   },
   "file_extension": ".py",
   "mimetype": "text/x-python",
   "name": "python",
   "nbconvert_exporter": "python",
   "pygments_lexer": "ipython3",
   "version": "3.11.13"
  }
 },
 "nbformat": 4,
 "nbformat_minor": 5
}
